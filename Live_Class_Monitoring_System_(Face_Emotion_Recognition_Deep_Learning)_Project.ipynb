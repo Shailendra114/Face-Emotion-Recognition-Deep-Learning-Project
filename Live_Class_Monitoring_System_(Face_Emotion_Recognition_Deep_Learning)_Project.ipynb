{
  "nbformat": 4,
  "nbformat_minor": 0,
  "metadata": {
    "colab": {
      "name": "Live Class Monitoring System (Face Emotion Recognition Deep Learning) Project.ipynb",
      "provenance": [],
      "authorship_tag": "ABX9TyOSPIbAlJCpY5Liolq5gDeU",
      "include_colab_link": true
    },
    "kernelspec": {
      "name": "python3",
      "display_name": "Python 3"
    },
    "language_info": {
      "name": "python"
    }
  },
  "cells": [
    {
      "cell_type": "markdown",
      "metadata": {
        "id": "view-in-github",
        "colab_type": "text"
      },
      "source": [
        "<a href=\"https://colab.research.google.com/github/Shailendra114/Face-Emotion-Recognition-Deep-Learning-Project/blob/main/Live_Class_Monitoring_System_(Face_Emotion_Recognition_Deep_Learning)_Project.ipynb\" target=\"_parent\"><img src=\"https://colab.research.google.com/assets/colab-badge.svg\" alt=\"Open In Colab\"/></a>"
      ]
    },
    {
      "cell_type": "markdown",
      "source": [
        "# Project Introduction:-"
      ],
      "metadata": {
        "id": "rsU01LbXwFgG"
      }
    },
    {
      "cell_type": "code",
      "execution_count": null,
      "metadata": {
        "id": "8AoVIANxvjNE"
      },
      "outputs": [],
      "source": [
        ""
      ]
    }
  ]
}