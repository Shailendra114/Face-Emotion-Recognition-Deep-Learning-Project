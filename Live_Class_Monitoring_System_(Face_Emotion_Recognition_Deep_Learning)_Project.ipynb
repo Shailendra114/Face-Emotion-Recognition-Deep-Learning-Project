{
  "nbformat": 4,
  "nbformat_minor": 0,
  "metadata": {
    "colab": {
      "name": "Live Class Monitoring System (Face Emotion Recognition Deep Learning) Project.ipynb",
      "provenance": [],
      "authorship_tag": "ABX9TyPXg6xhEon5CbN+q169OhR0",
      "include_colab_link": true
    },
    "kernelspec": {
      "name": "python3",
      "display_name": "Python 3"
    },
    "language_info": {
      "name": "python"
    }
  },
  "cells": [
    {
      "cell_type": "markdown",
      "metadata": {
        "id": "view-in-github",
        "colab_type": "text"
      },
      "source": [
        "<a href=\"https://colab.research.google.com/github/Shailendra114/Face-Emotion-Recognition-Deep-Learning-Project/blob/main/Live_Class_Monitoring_System_(Face_Emotion_Recognition_Deep_Learning)_Project.ipynb\" target=\"_parent\"><img src=\"https://colab.research.google.com/assets/colab-badge.svg\" alt=\"Open In Colab\"/></a>"
      ]
    },
    {
      "cell_type": "markdown",
      "source": [
        "# **Live Class Monitoring System (Face Emotion Recognition Deep Learning) Project**"
      ],
      "metadata": {
        "id": "AfenPVfOxGQK"
      }
    },
    {
      "cell_type": "markdown",
      "source": [
        "# **Project Introduction:-**"
      ],
      "metadata": {
        "id": "rsU01LbXwFgG"
      }
    },
    {
      "cell_type": "markdown",
      "source": [
        " The Indian education landscape has been undergoing rapid changes for the past 10 years owing to\n",
        "the advancement of web-based learning services, specifically, eLearning platforms.\n",
        "Global E-learning is estimated to witness an 8X over the next 5 years to reach USD 2B in 2021. India\n",
        "is expected to grow with a CAGR of 44% crossing the 10M users mark in 2021. Although the market\n",
        "is growing on a rapid scale, there are major challenges associated with digital learning when\n",
        "compared with brick and mortar classrooms. One of many challenges is how to ensure quality\n",
        "learning for students. Digital platforms might overpower physical classrooms in terms of content\n",
        "quality but when it comes to understanding whether students are able to grasp the content in a live\n",
        "class scenario is yet an open-end challenge.\n",
        "In a physical classroom during a lecturing teacher can see the faces and assess the emotion of the\n",
        "class and tune their lecture accordingly, whether he is going fast or slow. He can identify students who\n",
        "need special attention. Digital classrooms are conducted via video telephony software program (exZoom) where it’s not possible for medium scale class (25-50) to see all students and access the\n",
        "mood. Because of this drawback, students are not focusing on content due to lack of surveillance.\n",
        "While digital platforms have limitations in terms of physical surveillance but it comes with the power of\n",
        "data and machines which can work for you. It provides data in the form of video, audio, and texts\n",
        "which can be analysed using deep learning algorithms. Deep learning backed system not only solves\n",
        "the surveillance issue, but it also removes the human bias from the system, and all information is no\n",
        "longer in the teacher’s brain rather translated in numbers that can be analysed and tracked.\n"
      ],
      "metadata": {
        "id": "SrLmE1ePwenY"
      }
    },
    {
      "cell_type": "markdown",
      "source": [
        "# **Problem Statement:-**\n",
        "\n",
        "\n",
        "We will solve the above-mentioned challenge by applying deep learning algorithms to live video data.\n",
        "The solution to this problem is by recognizing facial emotions."
      ],
      "metadata": {
        "id": "PGsiLvCiw6ub"
      }
    },
    {
      "cell_type": "code",
      "execution_count": null,
      "metadata": {
        "id": "8AoVIANxvjNE"
      },
      "outputs": [],
      "source": [
        ""
      ]
    }
  ]
}