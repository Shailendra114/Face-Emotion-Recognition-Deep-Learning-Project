{
  "nbformat": 4,
  "nbformat_minor": 0,
  "metadata": {
    "colab": {
      "name": "Live Class Monitoring System (Face Emotion Recognition Deep Learning) Project.ipynb",
      "provenance": [],
      "collapsed_sections": [],
      "mount_file_id": "1EFYTynncuMxbVf_Vo0N75XqDCku7Y3Fd",
      "authorship_tag": "ABX9TyO0Y63UlWBhuYWwVI6bdlf7",
      "include_colab_link": true
    },
    "kernelspec": {
      "name": "python3",
      "display_name": "Python 3"
    },
    "language_info": {
      "name": "python"
    },
    "accelerator": "GPU"
  },
  "cells": [
    {
      "cell_type": "markdown",
      "metadata": {
        "id": "view-in-github",
        "colab_type": "text"
      },
      "source": [
        "<a href=\"https://colab.research.google.com/github/Shailendra114/Face-Emotion-Recognition-Deep-Learning-Project/blob/main/Live_Class_Monitoring_System_(Face_Emotion_Recognition_Deep_Learning)_Project.ipynb\" target=\"_parent\"><img src=\"https://colab.research.google.com/assets/colab-badge.svg\" alt=\"Open In Colab\"/></a>"
      ]
    },
    {
      "cell_type": "markdown",
      "source": [
        "# **Capstone Project**"
      ],
      "metadata": {
        "id": "tbl38qkYLpXl"
      }
    },
    {
      "cell_type": "markdown",
      "source": [
        "# **Live Class Monitoring System (Face Emotion Recognition Deep Learning) Project**"
      ],
      "metadata": {
        "id": "AfenPVfOxGQK"
      }
    },
    {
      "cell_type": "markdown",
      "source": [
        "# **Project Introduction:-**"
      ],
      "metadata": {
        "id": "rsU01LbXwFgG"
      }
    },
    {
      "cell_type": "markdown",
      "source": [
        " The Indian education landscape has been undergoing rapid changes for the past 10 years owing to\n",
        "the advancement of web-based learning services, specifically, eLearning platforms.\n",
        "Global E-learning is estimated to witness an 8X over the next 5 years to reach USD 2B in 2021. India\n",
        "is expected to grow with a CAGR of 44% crossing the 10M users mark in 2021. Although the market\n",
        "is growing on a rapid scale, there are major challenges associated with digital learning when\n",
        "compared with brick and mortar classrooms. One of many challenges is how to ensure quality\n",
        "learning for students. Digital platforms might overpower physical classrooms in terms of content\n",
        "quality but when it comes to understanding whether students are able to grasp the content in a live\n",
        "class scenario is yet an open-end challenge.\n",
        "In a physical classroom during a lecturing teacher can see the faces and assess the emotion of the\n",
        "class and tune their lecture accordingly, whether he is going fast or slow. He can identify students who\n",
        "need special attention. Digital classrooms are conducted via video telephony software program (exZoom) where it’s not possible for medium scale class (25-50) to see all students and access the\n",
        "mood. Because of this drawback, students are not focusing on content due to lack of surveillance.\n",
        "While digital platforms have limitations in terms of physical surveillance but it comes with the power of\n",
        "data and machines which can work for you. It provides data in the form of video, audio, and texts\n",
        "which can be analysed using deep learning algorithms. Deep learning backed system not only solves\n",
        "the surveillance issue, but it also removes the human bias from the system, and all information is no\n",
        "longer in the teacher’s brain rather translated in numbers that can be analysed and tracked.\n"
      ],
      "metadata": {
        "id": "SrLmE1ePwenY"
      }
    },
    {
      "cell_type": "markdown",
      "source": [
        "# **Problem Statement:-**\n",
        "\n",
        "\n",
        "We will solve the above-mentioned challenge by applying deep learning algorithms to live video data.\n",
        "The solution to this problem is by recognizing facial emotions."
      ],
      "metadata": {
        "id": "PGsiLvCiw6ub"
      }
    },
    {
      "cell_type": "markdown",
      "source": [
        "# **Process Outline:-**\n",
        "\n",
        "\n",
        "The Process outline that we will be following in the project are as follows-"
      ],
      "metadata": {
        "id": "wBD5r8z4xa5D"
      }
    },
    {
      "cell_type": "markdown",
      "source": [
        "Add the process outline here"
      ],
      "metadata": {
        "id": "grR0pLe_yIXZ"
      }
    },
    {
      "cell_type": "markdown",
      "source": [
        "# **Step First: Importing Important Libraries:-**"
      ],
      "metadata": {
        "id": "Q8biavtWyN-g"
      }
    },
    {
      "cell_type": "code",
      "execution_count": null,
      "metadata": {
        "id": "8AoVIANxvjNE"
      },
      "outputs": [],
      "source": [
        "# lets import the Basic libraries\n",
        "import numpy as np\n",
        "import pandas as pd\n",
        "import seaborn as sns\n",
        "import matplotlib.pyplot as plt\n",
        "import os"
      ]
    },
    {
      "cell_type": "code",
      "source": [
        "# lets import the important libraries for model building \n",
        "from keras.models import Sequential\n",
        "from keras.layers.core import Flatten, Dense, Dropout\n",
        "from keras.layers.convolutional import Convolution2D, MaxPooling2D, ZeroPadding2D\n",
        "from tensorflow.keras.optimizers import SGD\n",
        "import cv2\n",
        "import keras\n",
        "from keras.preprocessing.image import load_img, img_to_array"
      ],
      "metadata": {
        "id": "DgAhIaQRyidG"
      },
      "execution_count": null,
      "outputs": []
    },
    {
      "cell_type": "code",
      "source": [
        "%cd /content/drive/MyDrive/ Almabetter/ Face Emotion Recognition Project/"
      ],
      "metadata": {
        "id": "cDtnbEwb6X9z"
      },
      "execution_count": null,
      "outputs": []
    },
    {
      "cell_type": "code",
      "source": [
        "# Converting our data from tar file to csv file\n",
        "import tarfile\n",
        "\n",
        "fname = 'fer2013.tar.gz'\n",
        "if fname.endswith(\"tar.gz\"):\n",
        "    tar = tarfile.open(fname, \"r:gz\")\n",
        "    tar.extractall()\n",
        "    tar.close()\n",
        "elif fname.endswith(\"tar\"):\n",
        "    tar = tarfile.open(fname, \"r:\")\n",
        "    tar.extractall()\n",
        "    tar.close()"
      ],
      "metadata": {
        "id": "1LN1_eibk6T1"
      },
      "execution_count": null,
      "outputs": []
    },
    {
      "cell_type": "code",
      "source": [
        "# Reading CSV file\n",
        "df = pd.read_csv('/content/drive/MyDrive/ Almabetter/ Face Emotion Recognition Project/fer2013/fer2013.csv')"
      ],
      "metadata": {
        "id": "Cf1tcqQt6ng1"
      },
      "execution_count": null,
      "outputs": []
    },
    {
      "cell_type": "code",
      "source": [
        "# lets check the shape of our dataset\n",
        "print(df.shape)"
      ],
      "metadata": {
        "id": "dqYSC1oM69ba"
      },
      "execution_count": null,
      "outputs": []
    },
    {
      "cell_type": "markdown",
      "source": [
        "Okay there are 35887 rows and three columns in the dataset."
      ],
      "metadata": {
        "id": "qCouHTCl2F65"
      }
    },
    {
      "cell_type": "code",
      "source": [
        "# lets check the different columns in the dataset\n",
        "df.columns"
      ],
      "metadata": {
        "id": "qUC39Rvh2RWM"
      },
      "execution_count": null,
      "outputs": []
    },
    {
      "cell_type": "code",
      "source": [
        "# lets Check the top 5 rows of the data\n",
        "df.head()"
      ],
      "metadata": {
        "id": "GHhXYwHl7A92"
      },
      "execution_count": null,
      "outputs": []
    },
    {
      "cell_type": "code",
      "source": [
        "# Return unique values emotion\n",
        "df.emotion.unique()"
      ],
      "metadata": {
        "id": "-jzGT3kY7Lhn"
      },
      "execution_count": null,
      "outputs": []
    },
    {
      "cell_type": "code",
      "source": [
        "# Dictionary mapping for individual emotions\n",
        "emotion_label_to_text = {0:'anger', 1:'disgust', 2:'fear', 3:'happiness', 4: 'sadness', 5: 'surprise', 6: 'neutral'}"
      ],
      "metadata": {
        "id": "H6JfXDoV4-Hj"
      },
      "execution_count": null,
      "outputs": []
    },
    {
      "cell_type": "code",
      "source": [
        "# Plotting distribution of emotions\n",
        "sns.(df.emotion)\n",
        "plt.show()"
      ],
      "metadata": {
        "id": "Qwx8-vx95GYw"
      },
      "execution_count": null,
      "outputs": []
    },
    {
      "cell_type": "code",
      "source": [
        ""
      ],
      "metadata": {
        "id": "0VqHMEhz5Kms"
      },
      "execution_count": null,
      "outputs": []
    }
  ]
}